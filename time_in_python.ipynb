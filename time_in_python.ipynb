{
 "cells": [
  {
   "cell_type": "markdown",
   "metadata": {},
   "source": [
    "# time in python"
   ]
  },
  {
   "cell_type": "markdown",
   "metadata": {},
   "source": [
    "## time 模块"
   ]
  },
  {
   "cell_type": "code",
   "execution_count": null,
   "metadata": {},
   "outputs": [],
   "source": [
    "import time"
   ]
  },
  {
   "cell_type": "code",
   "execution_count": null,
   "metadata": {},
   "outputs": [],
   "source": [
    "cur_time = time.time()\n",
    "print(f'现在的时间戳是: {cur_time}')"
   ]
  },
  {
   "cell_type": "code",
   "execution_count": null,
   "metadata": {},
   "outputs": [],
   "source": [
    "# 利用localtime 解析时间戳, 返回与时间信息相关的元祖\n",
    "time_struct = time.localtime(cur_time)    \n",
    "time_struct"
   ]
  },
  {
   "cell_type": "code",
   "execution_count": null,
   "metadata": {},
   "outputs": [],
   "source": [
    "print(time.asctime(time_struct))   # 输出更可读的时间"
   ]
  },
  {
   "cell_type": "code",
   "execution_count": null,
   "metadata": {},
   "outputs": [],
   "source": [
    "print(time.strftime(\"%Y-%m-%d %H:%M:%S\", time_struct))   # 格式化时间"
   ]
  },
  {
   "cell_type": "markdown",
   "metadata": {},
   "source": [
    "---"
   ]
  },
  {
   "cell_type": "markdown",
   "metadata": {},
   "source": [
    "## datetime 模块"
   ]
  },
  {
   "cell_type": "code",
   "execution_count": null,
   "metadata": {},
   "outputs": [],
   "source": [
    "import datetime"
   ]
  },
  {
   "cell_type": "code",
   "execution_count": null,
   "metadata": {},
   "outputs": [],
   "source": [
    "datetime.MINYEAR,datetime.MAXYEAR    # datetime object 的最小年份和最大年份"
   ]
  },
  {
   "cell_type": "code",
   "execution_count": null,
   "metadata": {},
   "outputs": [],
   "source": [
    "print(datetime.datetime.today())      # 获得当前的时间\n",
    "print(datetime.date.today())        # 获取当前的日期\n",
    "d = datetime.date.fromtimestamp(cur_time)    # 利用时间戳返回日期\n",
    "print(d)\n",
    "print(d.toordinal())     # 将时间转换成序列号\n",
    "print(datetime.date.fromordinal(d.toordinal()))             # 将序列号转换为时间"
   ]
  },
  {
   "cell_type": "code",
   "execution_count": null,
   "metadata": {},
   "outputs": [],
   "source": [
    "# 利用combine 函数结合给定的时间\n",
    "\n",
    "d = datetime.date(2008, 1, 1)\n",
    "t = datetime.time(hour=23, minute=48, second=58)\n",
    "dt = datetime.datetime.combine(d, t)\n",
    "dt"
   ]
  },
  {
   "cell_type": "code",
   "execution_count": null,
   "metadata": {},
   "outputs": [],
   "source": [
    "# 可以进行比较\n",
    "time1 = datetime.time(12)\n",
    "time2 = datetime.time(11, 30)\n",
    "print(time1, time2, time1 > time2)\n",
    "\n",
    "dt1 = datetime.datetime(2018, 8, 8, 13, 25)\n",
    "dt2 = datetime.datetime(2017, 8, 8, 13, 25)\n",
    "print(dt1, dt2, dt1 > dt2)"
   ]
  },
  {
   "cell_type": "code",
   "execution_count": null,
   "metadata": {},
   "outputs": [],
   "source": [
    "# 格式化时间\n",
    "today = datetime.datetime.today()\n",
    "format = '%d %a %b %Y %H:%M:%S'\n",
    "format2 = '%Y-%m-%d %H:%M:%S'\n",
    "today.strftime(format), today.strftime(format2)"
   ]
  },
  {
   "cell_type": "code",
   "execution_count": null,
   "metadata": {},
   "outputs": [],
   "source": [
    "datetime.datetime.today(), datetime.datetime.now()"
   ]
  },
  {
   "cell_type": "code",
   "execution_count": null,
   "metadata": {},
   "outputs": [],
   "source": [
    "my_min = datetime.time()     # 默认值为0 \n",
    "my_min, datetime.time.min, datetime.time.max"
   ]
  },
  {
   "cell_type": "code",
   "execution_count": null,
   "metadata": {},
   "outputs": [],
   "source": [
    "my_time = datetime.time(0, 8, 32)\n",
    "print(my_time)\n",
    "print(my_time.replace(1))    # 替换，默认从第一个开始\n",
    "my_year = datetime.date.today()\n",
    "print(my_year)\n",
    "print(my_year.replace(2019))"
   ]
  },
  {
   "cell_type": "markdown",
   "metadata": {},
   "source": [
    "### 利用 datetime.timedelta 进行日期运算"
   ]
  },
  {
   "cell_type": "code",
   "execution_count": null,
   "metadata": {},
   "outputs": [],
   "source": [
    "from datetime import timedelta"
   ]
  },
  {
   "cell_type": "code",
   "execution_count": null,
   "metadata": {},
   "outputs": [],
   "source": [
    "day = timedelta(days=1)\n",
    "print(day)\n",
    "week = timedelta(weeks=1)\n",
    "print(week)\n",
    "minute = timedelta(minutes=1)\n",
    "print(minute)"
   ]
  },
  {
   "cell_type": "code",
   "execution_count": null,
   "metadata": {},
   "outputs": [],
   "source": [
    "today = datetime.datetime.today()\n",
    "print(today)\n",
    "yesterday = today - day\n",
    "print(yesterday)\n",
    "a_week_later = today + week\n",
    "print(a_week_later)\n",
    "a_week_later = today + day * 7\n",
    "print(a_week_later)"
   ]
  }
 ],
 "metadata": {
  "kernelspec": {
   "display_name": "Python 3",
   "language": "python",
   "name": "python3"
  },
  "language_info": {
   "codemirror_mode": {
    "name": "ipython",
    "version": 3
   },
   "file_extension": ".py",
   "mimetype": "text/x-python",
   "name": "python",
   "nbconvert_exporter": "python",
   "pygments_lexer": "ipython3",
   "version": "3.6.0"
  }
 },
 "nbformat": 4,
 "nbformat_minor": 2
}
