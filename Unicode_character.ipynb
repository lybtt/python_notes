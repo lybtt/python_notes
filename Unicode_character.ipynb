{
 "cells": [
  {
   "cell_type": "code",
   "execution_count": null,
   "metadata": {},
   "outputs": [],
   "source": [
    "import unicodedata"
   ]
  },
  {
   "cell_type": "markdown",
   "metadata": {},
   "source": [
    "### unicodedata 模块提供了对unicode 字符数据库的访问, 并隐式的提供了每个字符的属性"
   ]
  },
  {
   "cell_type": "code",
   "execution_count": null,
   "metadata": {},
   "outputs": [],
   "source": [
    "print(unicodedata.lookup('RIGHT SQUARE BRACKET'))   # 根据名字查找字符\n",
    "print(unicodedata.name(u']'))\n",
    "print(unicodedata.category(u'A'))\n",
    "print(unicodedata.category(u']'))\n",
    "print(unicodedata.name(u'a'))"
   ]
  },
  {
   "cell_type": "markdown",
   "metadata": {},
   "source": [
    "### ord chr"
   ]
  },
  {
   "cell_type": "code",
   "execution_count": null,
   "metadata": {},
   "outputs": [],
   "source": [
    "print(ord('A'))   # 返回一个字符串的Unicode编码\n",
    "print(chr(65))"
   ]
  },
  {
   "cell_type": "code",
   "execution_count": null,
   "metadata": {},
   "outputs": [],
   "source": [
    "# A-Z\n",
    "str_a_z = [chr(i+ord(\"A\")) for i in range(26)]\n",
    "print(str_a_z)\n",
    "# A-Z 与索引值结合\n",
    "dict_a_z = dict(zip(str_a_z, range(1, 27)))\n",
    "print(dict_a_z)"
   ]
  }
 ],
 "metadata": {
  "kernelspec": {
   "display_name": "Python 3",
   "language": "python",
   "name": "python3"
  },
  "language_info": {
   "codemirror_mode": {
    "name": "ipython",
    "version": 3
   },
   "file_extension": ".py",
   "mimetype": "text/x-python",
   "name": "python",
   "nbconvert_exporter": "python",
   "pygments_lexer": "ipython3",
   "version": "3.6.0"
  }
 },
 "nbformat": 4,
 "nbformat_minor": 2
}
